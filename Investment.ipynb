{
 "cells": [
  {
   "cell_type": "code",
   "execution_count": 1,
   "metadata": {},
   "outputs": [],
   "source": [
    "import pandas as pd\n",
    "import numpy as np\n",
    "import matplotlib.pyplot as plt\n",
    "import seaborn as sns\n",
    "pd.set_option('display.max_columns', None)"
   ]
  },
  {
   "cell_type": "code",
   "execution_count": 2,
   "metadata": {},
   "outputs": [],
   "source": [
    "import warnings\n",
    "warnings.filterwarnings(action='ignore')"
   ]
  },
  {
   "cell_type": "code",
   "execution_count": 3,
   "metadata": {},
   "outputs": [
    {
     "ename": "FileNotFoundError",
     "evalue": "[Errno 2] No such file or directory: 'companies.csv'",
     "output_type": "error",
     "traceback": [
      "\u001b[0;31m---------------------------------------------------------------------------\u001b[0m",
      "\u001b[0;31mFileNotFoundError\u001b[0m                         Traceback (most recent call last)",
      "\u001b[0;32m<ipython-input-3-e93b30b051a5>\u001b[0m in \u001b[0;36m<module>\u001b[0;34m\u001b[0m\n\u001b[1;32m      1\u001b[0m \u001b[0;32mimport\u001b[0m \u001b[0mchardet\u001b[0m\u001b[0;34m\u001b[0m\u001b[0;34m\u001b[0m\u001b[0m\n\u001b[0;32m----> 2\u001b[0;31m \u001b[0;32mwith\u001b[0m \u001b[0mopen\u001b[0m\u001b[0;34m(\u001b[0m\u001b[0;34m\"companies.csv\"\u001b[0m\u001b[0;34m,\u001b[0m \u001b[0;34m'rb'\u001b[0m\u001b[0;34m)\u001b[0m \u001b[0;32mas\u001b[0m \u001b[0mrawdata\u001b[0m\u001b[0;34m:\u001b[0m\u001b[0;34m\u001b[0m\u001b[0;34m\u001b[0m\u001b[0m\n\u001b[0m\u001b[1;32m      3\u001b[0m     \u001b[0mresult\u001b[0m \u001b[0;34m=\u001b[0m \u001b[0mchardet\u001b[0m\u001b[0;34m.\u001b[0m\u001b[0mdetect\u001b[0m\u001b[0;34m(\u001b[0m\u001b[0mrawdata\u001b[0m\u001b[0;34m.\u001b[0m\u001b[0mread\u001b[0m\u001b[0;34m(\u001b[0m\u001b[0;36m50000\u001b[0m\u001b[0;34m)\u001b[0m\u001b[0;34m)\u001b[0m\u001b[0;34m\u001b[0m\u001b[0;34m\u001b[0m\u001b[0m\n\u001b[1;32m      4\u001b[0m \u001b[0;34m\u001b[0m\u001b[0m\n\u001b[1;32m      5\u001b[0m \u001b[0;31m# check what the character encoding might be\u001b[0m\u001b[0;34m\u001b[0m\u001b[0;34m\u001b[0m\u001b[0;34m\u001b[0m\u001b[0m\n",
      "\u001b[0;31mFileNotFoundError\u001b[0m: [Errno 2] No such file or directory: 'companies.csv'"
     ]
    }
   ],
   "source": [
    "import chardet\n",
    "with open(\"companies.csv\", 'rb') as rawdata:\n",
    "    result = chardet.detect(rawdata.read(50000))\n",
    "\n",
    "# check what the character encoding might be\n",
    "print(result)"
   ]
  },
  {
   "cell_type": "code",
   "execution_count": null,
   "metadata": {
    "scrolled": true
   },
   "outputs": [],
   "source": [
    "#importing datasets\n",
    "rounds2 = pd.read_csv('rounds2.csv', encoding='palmos')"
   ]
  },
  {
   "cell_type": "code",
   "execution_count": null,
   "metadata": {},
   "outputs": [],
   "source": [
    "companies = pd.read_csv('companies.csv', encoding = 'palmos')"
   ]
  },
  {
   "cell_type": "code",
   "execution_count": null,
   "metadata": {
    "scrolled": true
   },
   "outputs": [],
   "source": [
    "companies.head()"
   ]
  },
  {
   "cell_type": "code",
   "execution_count": null,
   "metadata": {
    "scrolled": true
   },
   "outputs": [],
   "source": [
    "rounds2.head()"
   ]
  },
  {
   "cell_type": "code",
   "execution_count": null,
   "metadata": {},
   "outputs": [],
   "source": [
    "companies.shape"
   ]
  },
  {
   "cell_type": "code",
   "execution_count": null,
   "metadata": {
    "scrolled": true
   },
   "outputs": [],
   "source": [
    "rounds2.shape"
   ]
  },
  {
   "cell_type": "markdown",
   "metadata": {},
   "source": [
    "## Checkpoint 1: Data Cleaning 1"
   ]
  },
  {
   "cell_type": "code",
   "execution_count": null,
   "metadata": {},
   "outputs": [],
   "source": [
    "# How many unique companies are present in rounds2?\n",
    "rounds2['company_permalink'].nunique()"
   ]
  },
  {
   "cell_type": "code",
   "execution_count": null,
   "metadata": {},
   "outputs": [],
   "source": [
    "# How many unique companies are present in companies?\n",
    "companies['permalink'].nunique()"
   ]
  },
  {
   "cell_type": "code",
   "execution_count": null,
   "metadata": {},
   "outputs": [],
   "source": [
    "# Converting companies unique key to lower case in both dataframes for comparison\n",
    "\n",
    "rounds2['company_permalink'] = rounds2['company_permalink'].str.lower()\n",
    "companies['permalink'] = companies['permalink'].str.lower()"
   ]
  },
  {
   "cell_type": "code",
   "execution_count": null,
   "metadata": {},
   "outputs": [],
   "source": [
    "rounds2['company_permalink'].nunique()"
   ]
  },
  {
   "cell_type": "code",
   "execution_count": null,
   "metadata": {
    "scrolled": true
   },
   "outputs": [],
   "source": [
    "companies['permalink'].nunique()"
   ]
  },
  {
   "cell_type": "code",
   "execution_count": null,
   "metadata": {},
   "outputs": [],
   "source": [
    "# Create list of companies for both dataframe.\n",
    "rounds2_list = rounds2['company_permalink'].unique().tolist()\n",
    "companies_list = companies['permalink'].unique().tolist()\n",
    "\n",
    "# list of companies in **rounds2** which are not present in **companies**. Lets call it rounds2_diff_companies\n",
    "rounds2_diff_companies = set(rounds2_list).difference(set(companies_list))"
   ]
  },
  {
   "cell_type": "code",
   "execution_count": null,
   "metadata": {},
   "outputs": [],
   "source": [
    "#Number of companies present in **rounds2** which are not present in **companies**\n",
    "len(rounds2_diff_companies)"
   ]
  },
  {
   "cell_type": "markdown",
   "metadata": {},
   "source": [
    "#### Merging the dataframes **rounds2** and **companies**"
   ]
  },
  {
   "cell_type": "code",
   "execution_count": null,
   "metadata": {},
   "outputs": [],
   "source": [
    "#rename unique key column in 'rounds2' so that it matches with unique key of 'companies'\n",
    "\n",
    "rounds2.rename(columns = {'company_permalink':'permalink'}, inplace=True)"
   ]
  },
  {
   "cell_type": "code",
   "execution_count": null,
   "metadata": {
    "scrolled": false
   },
   "outputs": [],
   "source": [
    "rounds2.head()"
   ]
  },
  {
   "cell_type": "code",
   "execution_count": null,
   "metadata": {
    "scrolled": true
   },
   "outputs": [],
   "source": [
    "#merging 'companies' with 'rounds2' on variable 'permalink'.\n",
    "#Since 'companies' file has the data telling the identity of comoany, we will use left join with 'rounds2'.\n",
    "#By doing left join, each row of rounds2 will have details of the company\n",
    "master_frame = rounds2.merge(companies, how = 'left', on = 'permalink')"
   ]
  },
  {
   "cell_type": "code",
   "execution_count": null,
   "metadata": {
    "scrolled": true
   },
   "outputs": [],
   "source": [
    "master_frame.head()"
   ]
  },
  {
   "cell_type": "code",
   "execution_count": null,
   "metadata": {},
   "outputs": [],
   "source": [
    "master_frame.shape"
   ]
  },
  {
   "cell_type": "code",
   "execution_count": null,
   "metadata": {
    "scrolled": false
   },
   "outputs": [],
   "source": [
    "master_frame.isna().sum()"
   ]
  },
  {
   "cell_type": "markdown",
   "metadata": {},
   "source": [
    "#### 'funding_round_type' has no null values. This will help to clearly identify no. of investment in each type.\n",
    "#### Since variation in 'raised_amount_usd' is very high for each funding type, it is difficult to impute the value with any representative value.\n",
    "#### Also the location of the company is a typical value and cannot be imputed with any representative value."
   ]
  },
  {
   "cell_type": "markdown",
   "metadata": {},
   "source": [
    "## Checkpoint 2: Funding Type Analysis"
   ]
  },
  {
   "cell_type": "code",
   "execution_count": null,
   "metadata": {
    "scrolled": true
   },
   "outputs": [],
   "source": [
    "master_frame['funding_round_type'].value_counts()"
   ]
  },
  {
   "cell_type": "code",
   "execution_count": null,
   "metadata": {
    "scrolled": false
   },
   "outputs": [],
   "source": [
    "master_frame.dtypes"
   ]
  },
  {
   "cell_type": "code",
   "execution_count": null,
   "metadata": {},
   "outputs": [],
   "source": [
    "funding_type = ['venture', 'seed', 'angel', 'private_equity']"
   ]
  },
  {
   "cell_type": "code",
   "execution_count": null,
   "metadata": {},
   "outputs": [],
   "source": [
    "#creating subset of data with the desired funding round type\n",
    "master_frame_ft = master_frame[master_frame['funding_round_type'].isin(funding_type)]"
   ]
  },
  {
   "cell_type": "code",
   "execution_count": null,
   "metadata": {
    "scrolled": false
   },
   "outputs": [],
   "source": [
    "sns.boxplot(data = master_frame_ft, x = 'funding_round_type', y = 'raised_amount_usd')\n",
    "plt.show()"
   ]
  },
  {
   "cell_type": "code",
   "execution_count": null,
   "metadata": {
    "scrolled": false
   },
   "outputs": [],
   "source": [
    "for fund in funding_type:\n",
    "    print (fund)\n",
    "    print (master_frame_ft[master_frame_ft['funding_round_type'] == fund]['raised_amount_usd'].describe())\n",
    "    print()"
   ]
  },
  {
   "cell_type": "code",
   "execution_count": null,
   "metadata": {},
   "outputs": [],
   "source": [
    "#removing outliers for each funding type above 2 standard deviations from mean\n",
    "sd_factor = 2\n",
    "\n",
    "# standard deviation values for each funding type\n",
    "sd_list = []\n",
    "for fund in funding_type:\n",
    "\n",
    "    sd_list.append((fund, master_frame_ft[master_frame_ft['funding_round_type'] == fund]['raised_amount_usd'].std()))"
   ]
  },
  {
   "cell_type": "code",
   "execution_count": null,
   "metadata": {
    "scrolled": false
   },
   "outputs": [],
   "source": [
    "sd_list"
   ]
  },
  {
   "cell_type": "code",
   "execution_count": null,
   "metadata": {},
   "outputs": [],
   "source": [
    "master_frame_ft_filtered = pd.DataFrame(columns = master_frame_ft.columns.to_list())\n",
    "for pair in sd_list:\n",
    "    df = master_frame_ft[(master_frame_ft['funding_round_type'] == pair[0]) & \n",
    "                                      (master_frame_ft['raised_amount_usd'] < sd_factor*pair[1])]\n",
    "    master_frame_ft_filtered = pd.concat([master_frame_ft_filtered, df], ignore_index= True)"
   ]
  },
  {
   "cell_type": "code",
   "execution_count": null,
   "metadata": {
    "scrolled": true
   },
   "outputs": [],
   "source": [
    "master_frame_ft_filtered.head()"
   ]
  },
  {
   "cell_type": "code",
   "execution_count": null,
   "metadata": {},
   "outputs": [],
   "source": [
    "master_frame_ft_filtered['funding_round_type'].unique()"
   ]
  },
  {
   "cell_type": "code",
   "execution_count": null,
   "metadata": {
    "scrolled": false
   },
   "outputs": [],
   "source": [
    "#checking the values for the filtered dataset\n",
    "for fund in funding_type:\n",
    "    print (fund)\n",
    "    print (master_frame_ft_filtered[master_frame_ft_filtered['funding_round_type'] == fund]['raised_amount_usd'].describe())\n",
    "    print()"
   ]
  },
  {
   "cell_type": "code",
   "execution_count": null,
   "metadata": {
    "scrolled": false
   },
   "outputs": [],
   "source": [
    "for fund in funding_type:\n",
    "    sns.boxplot(data = master_frame_ft_filtered[master_frame_ft_filtered['funding_round_type'] == fund], \n",
    "            x = 'funding_round_type', y = 'raised_amount_usd')\n",
    "    plt.show()"
   ]
  },
  {
   "cell_type": "markdown",
   "metadata": {},
   "source": [
    "#### Since all funding types have outliers, it will be wise to use median as representative of data for each category.\n",
    "#### The IQR of funding type 'private_equity' is from 5 million to 70 million. Since our budget of 5 to 15 million USD lies in this range, this investment type is most suitable for the company."
   ]
  },
  {
   "cell_type": "markdown",
   "metadata": {},
   "source": [
    "## Checkpoint 3: Country Analysis"
   ]
  },
  {
   "cell_type": "code",
   "execution_count": null,
   "metadata": {
    "scrolled": true
   },
   "outputs": [],
   "source": [
    "#creating subset of data where funding_round_type is 'private_equity'\n",
    "master_frame_ft_filtered[master_frame_ft_filtered['funding_round_type'] == 'private_equity'].isna().sum()"
   ]
  },
  {
   "cell_type": "code",
   "execution_count": null,
   "metadata": {},
   "outputs": [],
   "source": [
    "#filtering data for funding type 'private_equity'\n",
    "master_frame_ft_filtered_pe = master_frame_ft_filtered[master_frame_ft_filtered['funding_round_type'] == 'private_equity']"
   ]
  },
  {
   "cell_type": "code",
   "execution_count": null,
   "metadata": {},
   "outputs": [],
   "source": [
    "# creating list of top 9 countries for funding type 'private_equity' based on total amount invested\n",
    "top9 = pd.pivot_table(data = master_frame_ft_filtered_pe, index = 'country_code', values = 'raised_amount_usd', aggfunc = sum)"
   ]
  },
  {
   "cell_type": "code",
   "execution_count": null,
   "metadata": {},
   "outputs": [],
   "source": [
    "top9 = pd.DataFrame(top9).reset_index()"
   ]
  },
  {
   "cell_type": "code",
   "execution_count": null,
   "metadata": {
    "scrolled": true
   },
   "outputs": [],
   "source": [
    "top9.head()"
   ]
  },
  {
   "cell_type": "code",
   "execution_count": null,
   "metadata": {},
   "outputs": [],
   "source": [
    "top9 = top9.sort_values(by='raised_amount_usd', ascending=False).reset_index(drop=True)"
   ]
  },
  {
   "cell_type": "code",
   "execution_count": null,
   "metadata": {},
   "outputs": [],
   "source": [
    "top9 = top9.head(9)"
   ]
  },
  {
   "cell_type": "code",
   "execution_count": null,
   "metadata": {
    "scrolled": false
   },
   "outputs": [],
   "source": [
    "top9"
   ]
  },
  {
   "cell_type": "code",
   "execution_count": null,
   "metadata": {},
   "outputs": [],
   "source": [
    "#top 9 countries for funding type 'private_equity'\n",
    "top9['country_code'].values.tolist()"
   ]
  },
  {
   "cell_type": "markdown",
   "metadata": {},
   "source": [
    "#### From the list of top 9 countries for funding type 'private_equity', the top 3 english speaking countries are USA, GBR and IND."
   ]
  },
  {
   "cell_type": "markdown",
   "metadata": {},
   "source": [
    "## Checkpoint 4: Sector Analysis 1"
   ]
  },
  {
   "cell_type": "code",
   "execution_count": null,
   "metadata": {},
   "outputs": [],
   "source": [
    "# importing mapping file for analysis\n",
    "mapping = pd.read_csv('mapping.csv')"
   ]
  },
  {
   "cell_type": "code",
   "execution_count": null,
   "metadata": {
    "scrolled": true
   },
   "outputs": [],
   "source": [
    "mapping.head()"
   ]
  },
  {
   "cell_type": "code",
   "execution_count": null,
   "metadata": {
    "scrolled": true
   },
   "outputs": [],
   "source": [
    "mapping.dtypes"
   ]
  },
  {
   "cell_type": "code",
   "execution_count": null,
   "metadata": {
    "scrolled": false
   },
   "outputs": [],
   "source": [
    "mapping['category_list'].value_counts()"
   ]
  },
  {
   "cell_type": "code",
   "execution_count": null,
   "metadata": {},
   "outputs": [],
   "source": [
    "mapping.shape"
   ]
  },
  {
   "cell_type": "code",
   "execution_count": null,
   "metadata": {},
   "outputs": [],
   "source": [
    "mapping[mapping['Blanks'] == 1]"
   ]
  },
  {
   "cell_type": "code",
   "execution_count": null,
   "metadata": {},
   "outputs": [],
   "source": [
    "# Since sector Blank has only one category_list wih null value, we can delete this column and the first row\n",
    "mapping.drop('Blanks', axis = 1, inplace=True)\n",
    "mapping.dropna(subset=['category_list'], inplace=True)"
   ]
  },
  {
   "cell_type": "code",
   "execution_count": null,
   "metadata": {},
   "outputs": [],
   "source": [
    "mapping.reset_index(drop=True, inplace=True)"
   ]
  },
  {
   "cell_type": "code",
   "execution_count": null,
   "metadata": {
    "scrolled": true
   },
   "outputs": [],
   "source": [
    "#checking for any null values\n",
    "mapping.isna().sum()"
   ]
  },
  {
   "cell_type": "code",
   "execution_count": null,
   "metadata": {},
   "outputs": [],
   "source": [
    "#creating primary sector from category_list column of master_frame data\n",
    "\n",
    "master_frame_ft_filtered_pe['primary_sector'] = master_frame_ft_filtered_pe['category_list'].apply(lambda x: str(x).split('|')[0])"
   ]
  },
  {
   "cell_type": "code",
   "execution_count": null,
   "metadata": {
    "scrolled": true
   },
   "outputs": [],
   "source": [
    "master_frame_ft_filtered_pe.head()"
   ]
  },
  {
   "cell_type": "code",
   "execution_count": null,
   "metadata": {},
   "outputs": [],
   "source": [
    "#merging dataset with mapping file\n",
    "master_frame_ft_filtered_pe = master_frame_ft_filtered_pe.merge(mapping, how= 'inner', left_on='primary_sector', right_on='category_list')"
   ]
  },
  {
   "cell_type": "code",
   "execution_count": null,
   "metadata": {
    "scrolled": true
   },
   "outputs": [],
   "source": [
    "master_frame_ft_filtered_pe.head()"
   ]
  },
  {
   "cell_type": "code",
   "execution_count": null,
   "metadata": {},
   "outputs": [],
   "source": [
    "master_frame_ft_filtered_pe.drop('category_list_y', axis = 1, inplace = True)"
   ]
  },
  {
   "cell_type": "code",
   "execution_count": null,
   "metadata": {},
   "outputs": [],
   "source": [
    "master_frame_ft_filtered_pe.rename(columns={'category_list_x':'category_list'}, inplace=True)"
   ]
  },
  {
   "cell_type": "code",
   "execution_count": null,
   "metadata": {
    "scrolled": true
   },
   "outputs": [],
   "source": [
    "master_frame_ft_filtered_pe.head()"
   ]
  },
  {
   "cell_type": "markdown",
   "metadata": {},
   "source": [
    "## Checkpoint 5: Sector Analysis 2"
   ]
  },
  {
   "cell_type": "markdown",
   "metadata": {},
   "source": [
    "#### Top 3 english speaking countries are USA, GBR and IND\n",
    "#### Creating dataframe for each countries with funding type as 'private_equity', where investment range is 5 to 15 million USD\n",
    "#### D1 --> USA, D2 --> GBR, and D3 --> IND"
   ]
  },
  {
   "cell_type": "code",
   "execution_count": null,
   "metadata": {},
   "outputs": [],
   "source": [
    "#creating dataframe D1 for USA\n",
    "D1 = master_frame_ft_filtered_pe[(master_frame_ft_filtered_pe['country_code'] == 'USA') \n",
    "                                 & (master_frame_ft_filtered_pe['raised_amount_usd'] >= 5000000) \n",
    "                                 & (master_frame_ft_filtered_pe['raised_amount_usd'] <= 15000000)]\n",
    "\n",
    "#creating dataframe D2 for GBR\n",
    "D2 = master_frame_ft_filtered_pe[(master_frame_ft_filtered_pe['country_code'] == 'GBR') \n",
    "                                 & (master_frame_ft_filtered_pe['raised_amount_usd'] >= 5000000) \n",
    "                                 & (master_frame_ft_filtered_pe['raised_amount_usd'] <= 15000000)]\n",
    "\n",
    "#creating dataframe D3 for IND\n",
    "D3 = master_frame_ft_filtered_pe[(master_frame_ft_filtered_pe['country_code'] == 'IND') \n",
    "                                 & (master_frame_ft_filtered_pe['raised_amount_usd'] >= 5000000) \n",
    "                                 & (master_frame_ft_filtered_pe['raised_amount_usd'] <= 15000000)]"
   ]
  },
  {
   "cell_type": "code",
   "execution_count": null,
   "metadata": {},
   "outputs": [],
   "source": [
    "# Total number of investment in USA\n",
    "D1.shape"
   ]
  },
  {
   "cell_type": "code",
   "execution_count": null,
   "metadata": {},
   "outputs": [],
   "source": [
    "# Total number of investment in GBR\n",
    "D2.shape"
   ]
  },
  {
   "cell_type": "code",
   "execution_count": null,
   "metadata": {},
   "outputs": [],
   "source": [
    "# Total number of investment in IND\n",
    "D3.shape"
   ]
  },
  {
   "cell_type": "code",
   "execution_count": null,
   "metadata": {},
   "outputs": [],
   "source": [
    "# Total amount of investment in all 3 countries\n",
    "print(D1['raised_amount_usd'].sum())\n",
    "print(D2['raised_amount_usd'].sum())\n",
    "print(D3['raised_amount_usd'].sum())"
   ]
  },
  {
   "cell_type": "code",
   "execution_count": null,
   "metadata": {},
   "outputs": [],
   "source": [
    "# List of 8 main sectors\n",
    "sector_list = mapping.columns.to_list()[1:]"
   ]
  },
  {
   "cell_type": "code",
   "execution_count": null,
   "metadata": {
    "scrolled": false
   },
   "outputs": [],
   "source": [
    "sector_list"
   ]
  },
  {
   "cell_type": "code",
   "execution_count": null,
   "metadata": {
    "scrolled": false
   },
   "outputs": [],
   "source": [
    "# Top sectors in USA where most number of investment where done.\n",
    "D1[sector_list].sum()"
   ]
  },
  {
   "cell_type": "code",
   "execution_count": null,
   "metadata": {
    "scrolled": false
   },
   "outputs": [],
   "source": [
    "# Top sectors in GBR where most number of investment where done.\n",
    "D2[sector_list].sum()"
   ]
  },
  {
   "cell_type": "code",
   "execution_count": null,
   "metadata": {},
   "outputs": [],
   "source": [
    "D2[sector_list + ['raised_amount_usd']].sort_values(by='raised_amount_usd', ascending = False)"
   ]
  },
  {
   "cell_type": "code",
   "execution_count": null,
   "metadata": {
    "scrolled": false
   },
   "outputs": [],
   "source": [
    "# Top sectors in IND where most number of investment where done.\n",
    "D3[sector_list].sum()"
   ]
  },
  {
   "cell_type": "code",
   "execution_count": null,
   "metadata": {
    "scrolled": true
   },
   "outputs": [],
   "source": [
    "D3[sector_list + ['raised_amount_usd']].sort_values(by='raised_amount_usd', ascending = False)"
   ]
  },
  {
   "cell_type": "markdown",
   "metadata": {},
   "source": [
    "#### In USA, the highest number of investments were for sectors: Cleantech / Semiconductors = 99, Others = 61 and, Health = 34"
   ]
  },
  {
   "cell_type": "markdown",
   "metadata": {},
   "source": [
    "#### In GBR, the highest number of investments were for sectors: Social, Finance, Analytics, Advertising = 2, Manufacturing = 2 and, Others = 2"
   ]
  },
  {
   "cell_type": "markdown",
   "metadata": {},
   "source": [
    "#### In IND, the highest number of investments were for sectors: Entertainment = 1, Others = 1 and, Cleantech / Semiconductors = 1"
   ]
  },
  {
   "cell_type": "code",
   "execution_count": null,
   "metadata": {
    "scrolled": false
   },
   "outputs": [],
   "source": [
    "#company recieving highest funding in Cleantech / Semiconductors sector which are under operation in USA\n",
    "D1[(D1['Cleantech / Semiconductors'] == 1) & (D1['status'] == 'operating')].sort_values(by=('raised_amount_usd'), ascending=False)"
   ]
  },
  {
   "cell_type": "code",
   "execution_count": null,
   "metadata": {
    "scrolled": true
   },
   "outputs": [],
   "source": [
    "#company recieving highest funding in software sector which are under operation in USA\n",
    "D1[(D1['Others'] == 1) & (D1['status'] == 'operating')].sort_values(by=('raised_amount_usd'), ascending=False)"
   ]
  },
  {
   "cell_type": "code",
   "execution_count": null,
   "metadata": {
    "scrolled": true
   },
   "outputs": [],
   "source": [
    "#company recieving highest funding in consulting sector in GBR\n",
    "D2[D2['Social, Finance, Analytics, Advertising'] == 1].sort_values(by=('raised_amount_usd'), ascending=False)"
   ]
  },
  {
   "cell_type": "code",
   "execution_count": null,
   "metadata": {
    "scrolled": false
   },
   "outputs": [],
   "source": [
    "#company recieving highest funding in manufacturing sector in GBR\n",
    "D2[D2['Manufacturing'] == 1].sort_values(by=('raised_amount_usd'), ascending=False)"
   ]
  },
  {
   "cell_type": "code",
   "execution_count": null,
   "metadata": {
    "scrolled": true
   },
   "outputs": [],
   "source": [
    "#company recieving highest funding in Jewelry sector in IND\n",
    "D3[D3['Entertainment'] == 1].sort_values(by=('raised_amount_usd'), ascending=False)"
   ]
  },
  {
   "cell_type": "code",
   "execution_count": null,
   "metadata": {
    "scrolled": true
   },
   "outputs": [],
   "source": [
    "#company recieving highest funding in Hospitality sector in IND\n",
    "D3[D3['Cleantech / Semiconductors'] == 1].sort_values(by=('raised_amount_usd'), ascending=False)"
   ]
  },
  {
   "cell_type": "markdown",
   "metadata": {},
   "source": [
    "## Checkpoint 6: Plots"
   ]
  },
  {
   "cell_type": "markdown",
   "metadata": {},
   "source": [
    "### Plot 1"
   ]
  },
  {
   "cell_type": "code",
   "execution_count": null,
   "metadata": {},
   "outputs": [],
   "source": [
    "#Creating dataset for each funding type\n",
    "\n",
    "venture_data = master_frame_ft_filtered[master_frame_ft_filtered['funding_round_type'] == 'venture']['raised_amount_usd']\n",
    "seed_data = master_frame_ft_filtered[master_frame_ft_filtered['funding_round_type'] == 'seed']['raised_amount_usd']\n",
    "angel_data = master_frame_ft_filtered[master_frame_ft_filtered['funding_round_type'] == 'angel']['raised_amount_usd']\n",
    "pe_data = master_frame_ft_filtered[master_frame_ft_filtered['funding_round_type'] == 'private_equity']['raised_amount_usd']"
   ]
  },
  {
   "cell_type": "code",
   "execution_count": null,
   "metadata": {},
   "outputs": [],
   "source": [
    "dataset = [venture_data, seed_data, angel_data, pe_data]\n",
    "dataset_label = ['venture', 'seed', 'angel', 'private_equity']"
   ]
  },
  {
   "cell_type": "code",
   "execution_count": null,
   "metadata": {
    "scrolled": false
   },
   "outputs": [],
   "source": [
    "fig, ax = plt.subplots(figsize=(12,8))\n",
    "ax.boxplot(dataset, labels = dataset_label)\n",
    "ax.spines['top'].set_visible(False)\n",
    "ax.spines['right'].set_visible(False)\n",
    "ax.spines['left'].set_visible(False)\n",
    "plt.show()"
   ]
  },
  {
   "cell_type": "code",
   "execution_count": null,
   "metadata": {
    "scrolled": false
   },
   "outputs": [],
   "source": [
    "#creating distribution plot for each funding type.\n",
    "\n",
    "plt.figure(figsize=(20,15), dpi = 120)\n",
    "funding_range = [5000000,1500000]\n",
    "for i,j in enumerate(dataset):\n",
    "    mean = dataset[i].mean()\n",
    "    median = dataset[i].median()\n",
    "    value_25_percentile = np.percentile(dataset[i], 25)\n",
    "    value_75_percentile = np.percentile(dataset[i], 75)\n",
    "    \n",
    "    ax = plt.subplot(2,2,i+1)\n",
    "    sns.kdeplot(data = dataset[i], shade = True)\n",
    "    sns.scatterplot([median],[0], color='red', label='median')\n",
    "    sns.scatterplot([mean],[0], color='blue', label='mean')\n",
    "    sns.scatterplot([value_25_percentile], [0], label = '25th percentile', color = 'green')\n",
    "    sns.scatterplot([value_75_percentile], [0], label = '75th percentile', color = 'orange')\n",
    "    sns.lineplot(funding_range, [0,0], color='black', label = 'Range', markers=True, linewidth = 5)\n",
    "    plt.title('mean = {}, median = {},\\n 25th_percentile = {},\\n 75th_percentile = {}'.format(round(mean),median,value_25_percentile\n",
    "                                                                                     ,value_75_percentile))\n",
    "    plt.xlabel(dataset_label[i])\n",
    "    plt.ylabel('Density')\n",
    "    ax.spines['top'].set_visible(False)\n",
    "    #ax.spines['right'].set_visible(False)\n",
    "    #ax.spines['left'].set_visible(False)\n",
    "    #ax.spines['bottom'].set_visible(False)\n",
    "    plt.subplots_adjust(left=0.1,\n",
    "                    bottom=0.1,  \n",
    "                    top=0.9, \n",
    "                    wspace=0.4, \n",
    "                    hspace=0.4)\n",
    "plt.savefig('Density Plot')\n",
    "plt.show()"
   ]
  },
  {
   "cell_type": "markdown",
   "metadata": {},
   "source": [
    "#### If we check our funding range, we can see that in private_equity funding it is in the IQR range. This makes it a preferred investment option for us.\n"
   ]
  },
  {
   "cell_type": "markdown",
   "metadata": {},
   "source": [
    "### Plot 2"
   ]
  },
  {
   "cell_type": "code",
   "execution_count": null,
   "metadata": {
    "scrolled": false
   },
   "outputs": [],
   "source": [
    "sns.barplot(data=top9.iloc[:], x='country_code', y='raised_amount_usd')\n",
    "plt.savefig('top9_1')\n",
    "plt.show()"
   ]
  },
  {
   "cell_type": "code",
   "execution_count": null,
   "metadata": {},
   "outputs": [],
   "source": [
    "#barplot excluding USA\n",
    "sns.barplot(data=top9.iloc[1:], x='country_code', y='raised_amount_usd')\n",
    "plt.savefig('top9_2')\n",
    "plt.show()"
   ]
  },
  {
   "cell_type": "markdown",
   "metadata": {},
   "source": [
    "#### In top 9 countries against the total amount of investments of funding type 'private_equity', USA has highest investement. It is followed by CHN, GBR and IND.\n",
    "#### Since we are interested in only english speaking countries, we will omit CHN. Now, top 3 countries of our interest are USA, GBR and IND."
   ]
  },
  {
   "cell_type": "markdown",
   "metadata": {},
   "source": [
    "### Plot 3"
   ]
  },
  {
   "cell_type": "markdown",
   "metadata": {},
   "source": [
    "### Number of investments in the top 3 sectors of the top 3 countries"
   ]
  },
  {
   "cell_type": "code",
   "execution_count": null,
   "metadata": {},
   "outputs": [],
   "source": [
    "\n",
    "USA_list = pd.Series(D1[sector_list].sum()).reset_index()\n",
    "GBR_list = pd.Series(D2[sector_list].sum()).reset_index()\n",
    "IND_list = pd.Series(D3[sector_list].sum()).reset_index()"
   ]
  },
  {
   "cell_type": "code",
   "execution_count": null,
   "metadata": {
    "scrolled": false
   },
   "outputs": [],
   "source": [
    "investment_list = [USA_list, GBR_list, IND_list]\n",
    "label = ['USA_investment', 'GBR_investment', 'IND_investment']\n",
    "plt.figure(figsize=(20,12), dpi = 200)\n",
    "for i,j in enumerate(investment_list):\n",
    "    ax = plt.subplot(3,1,i+1)\n",
    "    sns.barplot(data = investment_list[i], x = 'index', y = 0, estimator=sum)\n",
    "    ax.bar_label(ax.containers[0])\n",
    "    ax.set_xlabel('')\n",
    "    ax.set_ylabel('Number of Investments')\n",
    "    ax.set_title(label=label[i])\n",
    "plt.savefig('investment count')"
   ]
  }
 ],
 "metadata": {
  "kernelspec": {
   "display_name": "Python 3",
   "language": "python",
   "name": "python3"
  },
  "language_info": {
   "codemirror_mode": {
    "name": "ipython",
    "version": 3
   },
   "file_extension": ".py",
   "mimetype": "text/x-python",
   "name": "python",
   "nbconvert_exporter": "python",
   "pygments_lexer": "ipython3",
   "version": "3.8.3"
  }
 },
 "nbformat": 4,
 "nbformat_minor": 4
}
